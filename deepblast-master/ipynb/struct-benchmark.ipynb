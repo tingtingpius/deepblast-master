{
 "cells": [
  {
   "cell_type": "markdown",
   "metadata": {
    "toc": true
   },
   "source": [
    "<h1>目录<span class=\"tocSkip\"></span></h1>\n",
    "<div class=\"toc\"><ul class=\"toc-item\"><li><span><a href=\"#准备工作\" data-toc-modified-id=\"准备工作\"><span class=\"toc-item-num\">1&nbsp;&nbsp;</span>准备工作</a></span></li><li><span><a href=\"#开始训练验证数据\" data-toc-modified-id=\"Setting-up-training-/-validation-data-2\"><span class=\"toc-item-num\">2&nbsp;&nbsp;</span>开始训练验证数据</a></span></li></ul></div>"
   ]
  },
  {
   "cell_type": "markdown",
   "metadata": {},
   "source": [
    "# 准备工作\n",
    "\n",
    "确保已安装了所有适当的软件包。\n",
    "请参阅有关安装说明的DeepBlast Readme。\n",
    "另外，如果您使用的是GPU，请确保正确配置了CUDA和CUDNN。\n",
    "在用于运行此笔记本的slurm环境中，加载了以下模块。\n",
    "\n",
    "module load gcc cudnn cuda\n",
    "\n",
    "大约预计15min"
   ]
  },
  {
   "cell_type": "markdown",
   "metadata": {},
   "source": [
    "# 开始训练验证数据\n",
    "\n",
    "以下用在TM-Align产生的一小部分结构对齐子集中运行DeepBlast为例子。"
   ]
  },
  {
   "cell_type": "code",
   "execution_count": null,
   "metadata": {},
   "outputs": [],
   "source": [
    "import os\n",
    "import pandas as pd\n",
    "from deepblast.sim import hmm_alignments\n",
    "import argparse\n",
    "\n",
    "fname = '../data/tm_align_output_10k.tab'\n",
    "cols = [\n",
    "    'chain1_name', 'chain2_name', 'tmscore1', 'tmscore2', 'rmsd',\n",
    "    'chain1', 'chain2', 'alignment'\n",
    "]\n",
    "align_df = pd.read_table(fname, header=None, sep='\\s+')\n",
    "align_df.columns = cols\n",
    "n_alignments = align_df.shape[0]"
   ]
  },
  {
   "cell_type": "markdown",
   "metadata": {},
   "source": [
    "模拟对齐将分为训练 /测试和验证。"
   ]
  },
  {
   "cell_type": "code",
   "execution_count": null,
   "metadata": {},
   "outputs": [],
   "source": [
    "parts = n_alignments // 10\n",
    "train_df = align_df.iloc[:parts * 8]\n",
    "test_df = align_df.iloc[parts * 8:parts * 9]\n",
    "valid_df = align_df.iloc[parts * 9:]\n",
    "\n",
    "# save the files to disk.\n",
    "if not os.path.exists('data'):\n",
    "    os.mkdir('data')\n",
    "    \n",
    "train_df.to_csv('data/train.txt', sep='\\t', index=None, header=None)\n",
    "test_df.to_csv('data/test.txt', sep='\\t', index=None, header=None)\n",
    "valid_df.to_csv('data/valid.txt', sep='\\t', index=None, header=None)"
   ]
  },
  {
   "cell_type": "markdown",
   "metadata": {},
   "source": [
    "准备环境，以确保存在适当的输出目录以存储结果。"
   ]
  },
  {
   "cell_type": "code",
   "execution_count": null,
   "metadata": {},
   "outputs": [],
   "source": [
    "from deepblast.trainer import DeepBLAST\n",
    "from pytorch_lightning import Trainer\n",
    "\n",
    "output_dir = 'struct_results'\n",
    "if not os.path.exists(output_dir):\n",
    "    os.mkdir(output_dir)"
   ]
  },
  {
   "cell_type": "markdown",
   "metadata": {},
   "source": [
    "首先设置参数："
   ]
  },
  {
   "cell_type": "code",
   "execution_count": null,
   "metadata": {},
   "outputs": [],
   "source": [
    "from transformers import T5EncoderModel, T5Tokenizer\n",
    "tokenizer = T5Tokenizer.from_pretrained(\"Rostlab/prot_t5_xl_uniref50\", do_lower_case=False )\n",
    "model = T5EncoderModel.from_pretrained(\"Rostlab/prot_t5_xl_uniref50\")"
   ]
  },
  {
   "cell_type": "markdown",
   "metadata": {},
   "source": [
    "现在创建 DeepBLAST 模型  "
   ]
  },
  {
   "cell_type": "code",
   "execution_count": null,
   "metadata": {},
   "outputs": [],
   "source": [
    "model = DeepBLAST(\n",
    "    train_pairs=f'{os.getcwd()}/data/train.txt',  # training data\n",
    "    test_pairs=f'{os.getcwd()}/data/test.txt',    # test data\n",
    "    valid_pairs=f'{os.getcwd()}/data/valid.txt',  # validation data\n",
    "    output_directory=output_dir,                  # output directory storing model + diagnostics\n",
    "    batch_size=10,                                # number of alignments per training batch\n",
    "    num_workers=30,                               # number of cores for manipulating training data\n",
    "    layers=2,                                     # number of CNN layers for blosum matrix estimation\n",
    "    learning_rate=5e-5,                           # learning rate\n",
    "    loss='cross_entropy',                         # type of loss function \n",
    "    lm=model,                                     # pretrained language model \n",
    "    tokenizer=tokenizer                           # tokenizer for residues\n",
    ")"
   ]
  },
  {
   "cell_type": "markdown",
   "metadata": {},
   "source": [
    "最后训练模型"
   ]
  },
  {
   "cell_type": "code",
   "execution_count": null,
   "metadata": {
    "scrolled": false
   },
   "outputs": [],
   "source": [
    "trainer = Trainer(\n",
    "    max_epochs=5,\n",
    "    gpus=1,\n",
    "    check_val_every_n_epoch=1,\n",
    "    limit_train_batches=5,\n",
    "    limit_val_batches=1\n",
    ")\n",
    "\n",
    "trainer.fit(model)"
   ]
  },
  {
   "cell_type": "markdown",
   "metadata": {},
   "source": [
    "模型可以在Tensorboard中实现可视化， 图像可以显示损失函数值，准确性和对齐结果。"
   ]
  },
  {
   "cell_type": "code",
   "execution_count": null,
   "metadata": {},
   "outputs": [],
   "source": [
    "!ls lightning_logs"
   ]
  },
  {
   "cell_type": "code",
   "execution_count": null,
   "metadata": {},
   "outputs": [],
   "source": [
    "%load_ext tensorboard"
   ]
  },
  {
   "cell_type": "code",
   "execution_count": null,
   "metadata": {
    "scrolled": false
   },
   "outputs": [],
   "source": [
    "%tensorboard --logdir lightning_logs"
   ]
  },
  {
   "cell_type": "code",
   "execution_count": null,
   "metadata": {},
   "outputs": [],
   "source": []
  }
 ],
 "metadata": {
  "kernelspec": {
   "display_name": "Python 3 (ipykernel)",
   "language": "python",
   "name": "python3"
  },
  "language_info": {
   "codemirror_mode": {
    "name": "ipython",
    "version": 3
   },
   "file_extension": ".py",
   "mimetype": "text/x-python",
   "name": "python",
   "nbconvert_exporter": "python",
   "pygments_lexer": "ipython3",
   "version": "3.8.18"
  },
  "toc": {
   "base_numbering": 1,
   "nav_menu": {},
   "number_sections": true,
   "sideBar": true,
   "skip_h1_title": false,
   "title_cell": "Table of Contents",
   "title_sidebar": "Contents",
   "toc_cell": true,
   "toc_position": {},
   "toc_section_display": true,
   "toc_window_display": false
  }
 },
 "nbformat": 4,
 "nbformat_minor": 4
}
